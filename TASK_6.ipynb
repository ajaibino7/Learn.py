{
  "nbformat": 4,
  "nbformat_minor": 0,
  "metadata": {
    "colab": {
      "name": "TASK 6.ipynb",
      "provenance": [],
      "include_colab_link": true
    },
    "kernelspec": {
      "name": "python3",
      "display_name": "Python 3"
    },
    "language_info": {
      "name": "python"
    }
  },
  "cells": [
    {
      "cell_type": "markdown",
      "metadata": {
        "id": "view-in-github",
        "colab_type": "text"
      },
      "source": [
        "<a href=\"https://colab.research.google.com/github/ajaibino7/Learn.py/blob/main/TASK_6.ipynb\" target=\"_parent\"><img src=\"https://colab.research.google.com/assets/colab-badge.svg\" alt=\"Open In Colab\"/></a>"
      ]
    },
    {
      "cell_type": "markdown",
      "metadata": {
        "id": "2aT_QhgIny6V"
      },
      "source": [
        "1. Write a Python program to find those numbers which are divisible by 7 and multiple of 11, between 1000 and 2000 (both included)."
      ]
    },
    {
      "cell_type": "code",
      "metadata": {
        "id": "KlFG2BFZoEEU",
        "colab": {
          "base_uri": "https://localhost:8080/"
        },
        "outputId": "cb956b3c-0569-48ed-c0fc-bdeface24c8e"
      },
      "source": [
        "#please enter your answer below this line\n",
        "for i in range(1000,2000):\n",
        "  if (i%7==0):\n",
        "    print(str( i)+ \"is divisible by 7\")\n",
        "  elif (i%11==0):\n",
        "    print(str(i) + \" is divisible by 11\")\n"
      ],
      "execution_count": 3,
      "outputs": [
        {
          "output_type": "stream",
          "text": [
            "1001is divisible by 7\n",
            "1008is divisible by 7\n",
            "1012 is divisible by 11\n",
            "1015is divisible by 7\n",
            "1022is divisible by 7\n",
            "1023 is divisible by 11\n",
            "1029is divisible by 7\n",
            "1034 is divisible by 11\n",
            "1036is divisible by 7\n",
            "1043is divisible by 7\n",
            "1045 is divisible by 11\n",
            "1050is divisible by 7\n",
            "1056 is divisible by 11\n",
            "1057is divisible by 7\n",
            "1064is divisible by 7\n",
            "1067 is divisible by 11\n",
            "1071is divisible by 7\n",
            "1078is divisible by 7\n",
            "1085is divisible by 7\n",
            "1089 is divisible by 11\n",
            "1092is divisible by 7\n",
            "1099is divisible by 7\n",
            "1100 is divisible by 11\n",
            "1106is divisible by 7\n",
            "1111 is divisible by 11\n",
            "1113is divisible by 7\n",
            "1120is divisible by 7\n",
            "1122 is divisible by 11\n",
            "1127is divisible by 7\n",
            "1133 is divisible by 11\n",
            "1134is divisible by 7\n",
            "1141is divisible by 7\n",
            "1144 is divisible by 11\n",
            "1148is divisible by 7\n",
            "1155is divisible by 7\n",
            "1162is divisible by 7\n",
            "1166 is divisible by 11\n",
            "1169is divisible by 7\n",
            "1176is divisible by 7\n",
            "1177 is divisible by 11\n",
            "1183is divisible by 7\n",
            "1188 is divisible by 11\n",
            "1190is divisible by 7\n",
            "1197is divisible by 7\n",
            "1199 is divisible by 11\n",
            "1204is divisible by 7\n",
            "1210 is divisible by 11\n",
            "1211is divisible by 7\n",
            "1218is divisible by 7\n",
            "1221 is divisible by 11\n",
            "1225is divisible by 7\n",
            "1232is divisible by 7\n",
            "1239is divisible by 7\n",
            "1243 is divisible by 11\n",
            "1246is divisible by 7\n",
            "1253is divisible by 7\n",
            "1254 is divisible by 11\n",
            "1260is divisible by 7\n",
            "1265 is divisible by 11\n",
            "1267is divisible by 7\n",
            "1274is divisible by 7\n",
            "1276 is divisible by 11\n",
            "1281is divisible by 7\n",
            "1287 is divisible by 11\n",
            "1288is divisible by 7\n",
            "1295is divisible by 7\n",
            "1298 is divisible by 11\n",
            "1302is divisible by 7\n",
            "1309is divisible by 7\n",
            "1316is divisible by 7\n",
            "1320 is divisible by 11\n",
            "1323is divisible by 7\n",
            "1330is divisible by 7\n",
            "1331 is divisible by 11\n",
            "1337is divisible by 7\n",
            "1342 is divisible by 11\n",
            "1344is divisible by 7\n",
            "1351is divisible by 7\n",
            "1353 is divisible by 11\n",
            "1358is divisible by 7\n",
            "1364 is divisible by 11\n",
            "1365is divisible by 7\n",
            "1372is divisible by 7\n",
            "1375 is divisible by 11\n",
            "1379is divisible by 7\n",
            "1386is divisible by 7\n",
            "1393is divisible by 7\n",
            "1397 is divisible by 11\n",
            "1400is divisible by 7\n",
            "1407is divisible by 7\n",
            "1408 is divisible by 11\n",
            "1414is divisible by 7\n",
            "1419 is divisible by 11\n",
            "1421is divisible by 7\n",
            "1428is divisible by 7\n",
            "1430 is divisible by 11\n",
            "1435is divisible by 7\n",
            "1441 is divisible by 11\n",
            "1442is divisible by 7\n",
            "1449is divisible by 7\n",
            "1452 is divisible by 11\n",
            "1456is divisible by 7\n",
            "1463is divisible by 7\n",
            "1470is divisible by 7\n",
            "1474 is divisible by 11\n",
            "1477is divisible by 7\n",
            "1484is divisible by 7\n",
            "1485 is divisible by 11\n",
            "1491is divisible by 7\n",
            "1496 is divisible by 11\n",
            "1498is divisible by 7\n",
            "1505is divisible by 7\n",
            "1507 is divisible by 11\n",
            "1512is divisible by 7\n",
            "1518 is divisible by 11\n",
            "1519is divisible by 7\n",
            "1526is divisible by 7\n",
            "1529 is divisible by 11\n",
            "1533is divisible by 7\n",
            "1540is divisible by 7\n",
            "1547is divisible by 7\n",
            "1551 is divisible by 11\n",
            "1554is divisible by 7\n",
            "1561is divisible by 7\n",
            "1562 is divisible by 11\n",
            "1568is divisible by 7\n",
            "1573 is divisible by 11\n",
            "1575is divisible by 7\n",
            "1582is divisible by 7\n",
            "1584 is divisible by 11\n",
            "1589is divisible by 7\n",
            "1595 is divisible by 11\n",
            "1596is divisible by 7\n",
            "1603is divisible by 7\n",
            "1606 is divisible by 11\n",
            "1610is divisible by 7\n",
            "1617is divisible by 7\n",
            "1624is divisible by 7\n",
            "1628 is divisible by 11\n",
            "1631is divisible by 7\n",
            "1638is divisible by 7\n",
            "1639 is divisible by 11\n",
            "1645is divisible by 7\n",
            "1650 is divisible by 11\n",
            "1652is divisible by 7\n",
            "1659is divisible by 7\n",
            "1661 is divisible by 11\n",
            "1666is divisible by 7\n",
            "1672 is divisible by 11\n",
            "1673is divisible by 7\n",
            "1680is divisible by 7\n",
            "1683 is divisible by 11\n",
            "1687is divisible by 7\n",
            "1694is divisible by 7\n",
            "1701is divisible by 7\n",
            "1705 is divisible by 11\n",
            "1708is divisible by 7\n",
            "1715is divisible by 7\n",
            "1716 is divisible by 11\n",
            "1722is divisible by 7\n",
            "1727 is divisible by 11\n",
            "1729is divisible by 7\n",
            "1736is divisible by 7\n",
            "1738 is divisible by 11\n",
            "1743is divisible by 7\n",
            "1749 is divisible by 11\n",
            "1750is divisible by 7\n",
            "1757is divisible by 7\n",
            "1760 is divisible by 11\n",
            "1764is divisible by 7\n",
            "1771is divisible by 7\n",
            "1778is divisible by 7\n",
            "1782 is divisible by 11\n",
            "1785is divisible by 7\n",
            "1792is divisible by 7\n",
            "1793 is divisible by 11\n",
            "1799is divisible by 7\n",
            "1804 is divisible by 11\n",
            "1806is divisible by 7\n",
            "1813is divisible by 7\n",
            "1815 is divisible by 11\n",
            "1820is divisible by 7\n",
            "1826 is divisible by 11\n",
            "1827is divisible by 7\n",
            "1834is divisible by 7\n",
            "1837 is divisible by 11\n",
            "1841is divisible by 7\n",
            "1848is divisible by 7\n",
            "1855is divisible by 7\n",
            "1859 is divisible by 11\n",
            "1862is divisible by 7\n",
            "1869is divisible by 7\n",
            "1870 is divisible by 11\n",
            "1876is divisible by 7\n",
            "1881 is divisible by 11\n",
            "1883is divisible by 7\n",
            "1890is divisible by 7\n",
            "1892 is divisible by 11\n",
            "1897is divisible by 7\n",
            "1903 is divisible by 11\n",
            "1904is divisible by 7\n",
            "1911is divisible by 7\n",
            "1914 is divisible by 11\n",
            "1918is divisible by 7\n",
            "1925is divisible by 7\n",
            "1932is divisible by 7\n",
            "1936 is divisible by 11\n",
            "1939is divisible by 7\n",
            "1946is divisible by 7\n",
            "1947 is divisible by 11\n",
            "1953is divisible by 7\n",
            "1958 is divisible by 11\n",
            "1960is divisible by 7\n",
            "1967is divisible by 7\n",
            "1969 is divisible by 11\n",
            "1974is divisible by 7\n",
            "1980 is divisible by 11\n",
            "1981is divisible by 7\n",
            "1988is divisible by 7\n",
            "1991 is divisible by 11\n",
            "1995is divisible by 7\n"
          ],
          "name": "stdout"
        }
      ]
    },
    {
      "cell_type": "markdown",
      "metadata": {
        "id": "ZesHXUMboLu7"
      },
      "source": [
        "2. Write a program to print this pattern\n",
        "\n",
        "           #\n",
        "          ## \n",
        "         ###"
      ]
    },
    {
      "cell_type": "code",
      "metadata": {
        "id": "64-aUjWbohqz",
        "colab": {
          "base_uri": "https://localhost:8080/"
        },
        "outputId": "07e8175f-a7ce-4e06-f047-4fb86b12f05a"
      },
      "source": [
        "#please enter your answer below this line\n",
        "n = 3\n",
        "k = 2 * n - 2\n",
        "for i in range(0, n):\n",
        "    for j in range(0, k):\n",
        "        print(end=\" \")\n",
        "    k = k - 2\n",
        "    for j in range(0, i + 1):\n",
        "        print(\"# \", end=\"\")\n",
        "    print(\"\")\n"
      ],
      "execution_count": 4,
      "outputs": [
        {
          "output_type": "stream",
          "text": [
            "    # \n",
            "  # # \n",
            "# # # \n"
          ],
          "name": "stdout"
        }
      ]
    },
    {
      "cell_type": "markdown",
      "metadata": {
        "id": "6ZepaaI-ow6W"
      },
      "source": [
        "3. list=[apple, orange, apple, banana]\n",
        ". Replace all the apple in the list with grapes using for loop"
      ]
    },
    {
      "cell_type": "code",
      "metadata": {
        "id": "D7UOyf_6o6Ax",
        "colab": {
          "base_uri": "https://localhost:8080/"
        },
        "outputId": "2450efee-1c5d-4fb9-f123-beadbea61cb6"
      },
      "source": [
        "#please enter your answer below this line\n",
        "list=['apple', 'orange', 'apple', 'banana']\n",
        "for i in range(0,3):\n",
        "  if (list[i]=='apple'):\n",
        "    list.remove('apple')\n",
        "    list.insert(i, 'grapes')\n",
        "print(list)"
      ],
      "execution_count": 5,
      "outputs": [
        {
          "output_type": "stream",
          "text": [
            "['grapes', 'orange', 'grapes', 'banana']\n"
          ],
          "name": "stdout"
        }
      ]
    }
  ]
}