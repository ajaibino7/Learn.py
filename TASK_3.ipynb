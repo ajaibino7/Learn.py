{
  "nbformat": 4,
  "nbformat_minor": 0,
  "metadata": {
    "colab": {
      "name": " TASK 3.ipynb",
      "provenance": [],
      "collapsed_sections": [],
      "include_colab_link": true
    },
    "kernelspec": {
      "name": "python3",
      "display_name": "Python 3"
    },
    "language_info": {
      "name": "python"
    }
  },
  "cells": [
    {
      "cell_type": "markdown",
      "metadata": {
        "id": "view-in-github",
        "colab_type": "text"
      },
      "source": [
        "<a href=\"https://colab.research.google.com/github/ajaibino7/Learn.py/blob/main/TASK_3.ipynb\" target=\"_parent\"><img src=\"https://colab.research.google.com/assets/colab-badge.svg\" alt=\"Open In Colab\"/></a>"
      ]
    },
    {
      "cell_type": "markdown",
      "metadata": {
        "id": "z20IIB0eUQMN"
      },
      "source": [
        "1 - Write a program which takes a number as input from the user and check whether the number is odd or even.If odd print the number is odd if not print it is even."
      ]
    },
    {
      "cell_type": "code",
      "metadata": {
        "id": "dVgGJ-wTVRit",
        "colab": {
          "base_uri": "https://localhost:8080/"
        },
        "outputId": "6f9f4c4d-cca6-40b4-c027-ac19efa5d9c7"
      },
      "source": [
        "#please enter your answer below this line\n",
        "num = int(input(\"Enter the number: \"))\n",
        "if (num % 2 == 0):\n",
        "  print(\"Entered number is Even.\")\n",
        "\n",
        "else:\n",
        "  print(\"Entered number is Odd.\")\n"
      ],
      "execution_count": 2,
      "outputs": [
        {
          "output_type": "stream",
          "text": [
            "Enter the number: 8\n",
            "Entered number is Even.\n"
          ],
          "name": "stdout"
        }
      ]
    },
    {
      "cell_type": "markdown",
      "metadata": {
        "id": "7778XD8PVblj"
      },
      "source": [
        "2 -Write a program to find the largest among three numbers and print the largest number."
      ]
    },
    {
      "cell_type": "code",
      "metadata": {
        "id": "m0tUOkOFWR-d",
        "colab": {
          "base_uri": "https://localhost:8080/"
        },
        "outputId": "06ba48af-2608-4c8c-d984-db8cd8b8ee24"
      },
      "source": [
        "#please enter your answer below this line\n",
        "num1 = int(input(\"Enter the 1st number: \"))\n",
        "num2 = int(input(\"Enter the 2nd number: \"))\n",
        "num3 = int(input(\"Enter the 3rd number: \"))\n",
        "if (num1 > num2 and num1 > num3):\n",
        "  print(str(num1) + \" is largest.\")\n",
        "elif (num2 > num1 and num2 > num3):\n",
        "  print(str(num2) + \" is largest.\")\n",
        "else:\n",
        "  print(str(num3) + \" is largest.\")\n",
        "\n"
      ],
      "execution_count": 9,
      "outputs": [
        {
          "output_type": "stream",
          "text": [
            "Enter the 1st number: 5\n",
            "Enter the 2nd number: 3\n",
            "Enter the 3rd number: 7\n",
            "7 is largest.\n"
          ],
          "name": "stdout"
        }
      ]
    },
    {
      "cell_type": "markdown",
      "metadata": {
        "id": "Jg2Ns4OQWaJy"
      },
      "source": [
        "3 -Write a function to prompt for a score between 0.0 and 1.0.\n",
        "\n",
        "    If the score is out of range, print an error.\n",
        "    If the score is between 0.0 and 1.0, print a grade using the following table:\n",
        "    Score Grade\n",
        "             Score\tGrade\n",
        "            >= 0.9\tA\n",
        "            >= 0.8\tB\n",
        "            >= 0.7\tC\n",
        "            >= 0.6\tD\n",
        "             < 0.6\tF\n",
        "If the user enters a value out of range, print a suitable error message and exit. For the test, enter a score of 0.85."
      ]
    },
    {
      "cell_type": "code",
      "metadata": {
        "id": "6DLbGe6XXZPx",
        "colab": {
          "base_uri": "https://localhost:8080/"
        },
        "outputId": "3be14842-34a2-4e68-c972-2979d2c7fbc2"
      },
      "source": [
        "#please enter your answer below this line\n",
        "score = float(input(\"Enter the score(Between 0.0 and 1.0): \"))\n",
        "if (score <= 1.0) and (score >= 0.9):\n",
        "  print(\"Grade is A.\")\n",
        "elif (score<= 0.9) and (score >= 0.8):\n",
        "  print(\"Grade is B.\")\n",
        "elif (score<= 0.8) and (score >= 0.7):\n",
        "  print(\"Grade is C.\")\n",
        "elif (score<= 0.7) and (score >= 0.6):\n",
        "  print(\"Grade is D.\")\n",
        "elif (score < 0.6) and (score >= 0.0):\n",
        "  print(\"Grade is F.\")\n",
        "else:\n",
        "  print(\"Invalid Input!.\")\n",
        "\n",
        "\n"
      ],
      "execution_count": 28,
      "outputs": [
        {
          "output_type": "stream",
          "text": [
            "Enter the score(Between 0.0 and 1.0): 0.85\n",
            "Grade is B.\n"
          ],
          "name": "stdout"
        }
      ]
    },
    {
      "cell_type": "markdown",
      "metadata": {
        "id": "-o0scDq7WkVT"
      },
      "source": [
        ""
      ]
    }
  ]
}