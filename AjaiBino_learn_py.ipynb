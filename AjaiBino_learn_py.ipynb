{
  "nbformat": 4,
  "nbformat_minor": 0,
  "metadata": {
    "colab": {
      "name": "AjaiBino_learn.py",
      "provenance": [],
      "collapsed_sections": []
    },
    "kernelspec": {
      "name": "python3",
      "display_name": "Python 3"
    },
    "language_info": {
      "name": "python"
    }
  },
  "cells": [
    {
      "cell_type": "markdown",
      "metadata": {
        "id": "q-yWxfWESiQo"
      },
      "source": [
        "1.Write a program that uses input to prompt a user for their name and then welcomes them."
      ]
    },
    {
      "cell_type": "code",
      "metadata": {
        "id": "9ikpRxqMSxu0",
        "colab": {
          "base_uri": "https://localhost:8080/"
        },
        "outputId": "6df559e0-4472-4cf8-afeb-f19382df9306"
      },
      "source": [
        "#please provide your answer here below this line\n",
        "\n",
        "Name = input(\"Enter your name: \")\n",
        "print(\"Hello \"+ Name + \" welcome to LEARN.PY\")\n",
        "\n"
      ],
      "execution_count": 2,
      "outputs": [
        {
          "output_type": "stream",
          "text": [
            "Enter your name: Ajai Bino\n",
            "Hello Ajai Bino welcome to LEARN.PY\n"
          ],
          "name": "stdout"
        }
      ]
    },
    {
      "cell_type": "markdown",
      "metadata": {
        "id": "Ay5OdxguS-2Z"
      },
      "source": [
        "2.Write a program which prompts the user for a Celsius temperature, convert the temperature to Fahrenheit, and print out the converted temperature."
      ]
    },
    {
      "cell_type": "code",
      "metadata": {
        "id": "MMv2yWNtTgEu",
        "colab": {
          "base_uri": "https://localhost:8080/"
        },
        "outputId": "82640fa3-acd1-45d8-ac14-13e00c598e22"
      },
      "source": [
        "#please provide your answer here below this line\n",
        "\n",
        "Celsius = float(input(\"Enter the temperature in  Celsius: \"))\n",
        "Fahrenheit = float(Celsius*9/5+32)\n",
        "print(str(Celsius) + \" degree Celsius = \" + str(Fahrenheit) + \" degree Fahrenheit\" )\n"
      ],
      "execution_count": 8,
      "outputs": [
        {
          "output_type": "stream",
          "text": [
            "Enter the temperature in  Celsius: 77\n",
            "77.0 degree Celsius = 170.6 degree Fahrenheit\n"
          ],
          "name": "stdout"
        }
      ]
    },
    {
      "cell_type": "markdown",
      "metadata": {
        "id": "v6O1a198TpNd"
      },
      "source": [
        "3.Write a Python program to convert degree to radian."
      ]
    },
    {
      "cell_type": "code",
      "metadata": {
        "id": "27Jj4_D0UQBA",
        "colab": {
          "base_uri": "https://localhost:8080/"
        },
        "outputId": "b212c704-8d36-4f2c-cb81-8e7e53e0c348"
      },
      "source": [
        "#please provide your answer here below this line\n",
        "\n",
        "degree = float(input(\"Enter the value in degree: \"))\n",
        "radian = float(degree*(22/7)/180)\n",
        "print(str(degree) + \" Deg = \" + str(radian) + \" Rad\")\n",
        "\n"
      ],
      "execution_count": 9,
      "outputs": [
        {
          "output_type": "stream",
          "text": [
            "Enter the value in degree: 55\n",
            "55.0 Deg = 0.9603174603174603 Rad\n"
          ],
          "name": "stdout"
        }
      ]
    }
  ]
}