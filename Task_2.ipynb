{
  "nbformat": 4,
  "nbformat_minor": 0,
  "metadata": {
    "colab": {
      "name": "Task 2.ipynb",
      "provenance": [],
      "collapsed_sections": []
    },
    "kernelspec": {
      "name": "python3",
      "display_name": "Python 3"
    },
    "language_info": {
      "name": "python"
    }
  },
  "cells": [
    {
      "cell_type": "markdown",
      "metadata": {
        "id": "LsC-2SdxAo8v"
      },
      "source": [
        "1 ) Consider i = 2, Write a program to convert i to float. \n",
        "---\n",
        "\n",
        "    (Expected Output = 2.0 )\n"
      ]
    },
    {
      "cell_type": "code",
      "metadata": {
        "id": "sHcMeA4vCUyp",
        "colab": {
          "base_uri": "https://localhost:8080/"
        },
        "outputId": "724d87a2-c585-4b73-8119-39ec89fff39f"
      },
      "source": [
        "#please enter the code below this line\n",
        "\n",
        "i = 2\n",
        "print(float(i))\n",
        "\n"
      ],
      "execution_count": 1,
      "outputs": [
        {
          "output_type": "stream",
          "text": [
            "2.0\n"
          ],
          "name": "stdout"
        }
      ]
    },
    {
      "cell_type": "markdown",
      "metadata": {
        "id": "w5XXklMpCZna"
      },
      "source": [
        "2 )Consider x=\"Hello\" and y=\"World\" , then write a program to concatinate the strings to a single string and print the result.\n",
        "            \n",
        "            \n",
        "            \n",
        "            \n",
        "          ( Expected output = Hello World )"
      ]
    },
    {
      "cell_type": "code",
      "metadata": {
        "id": "T72ap7WDD1OD",
        "colab": {
          "base_uri": "https://localhost:8080/"
        },
        "outputId": "8d8f41df-4137-4cb2-d582-a10d384bc8b8"
      },
      "source": [
        "#please enter the code below this line\n",
        "\n",
        "x = \"Hello\"\n",
        "y = \"World\"\n",
        "z = x+\" \"+y\n",
        "print(z)\n",
        "\n"
      ],
      "execution_count": 2,
      "outputs": [
        {
          "output_type": "stream",
          "text": [
            "Hello World\n"
          ],
          "name": "stdout"
        }
      ]
    },
    {
      "cell_type": "markdown",
      "metadata": {
        "id": "tnp5Z3JyD7iO"
      },
      "source": [
        "3 ) Consider pi = 3.14 . print the value of pie and its type."
      ]
    },
    {
      "cell_type": "code",
      "metadata": {
        "id": "hQQkH2m4E_Ci",
        "colab": {
          "base_uri": "https://localhost:8080/"
        },
        "outputId": "0f854a0b-7616-4d4a-d232-30e45eb7473d"
      },
      "source": [
        "#please enter the code below this line\n",
        "\n",
        "pi = 3.14\n",
        "print(\"Value of pi is \"+ str(pi) +\" and its data type is \" + str(type(pi)))\n"
      ],
      "execution_count": 9,
      "outputs": [
        {
          "output_type": "stream",
          "text": [
            "Value of pi is 3.14 And its data type is <class 'float'>\n"
          ],
          "name": "stdout"
        }
      ]
    }
  ]
}