{
  "nbformat": 4,
  "nbformat_minor": 0,
  "metadata": {
    "colab": {
      "name": "TASK  7.ipynb",
      "provenance": [],
      "collapsed_sections": [],
      "include_colab_link": true
    },
    "kernelspec": {
      "name": "python3",
      "display_name": "Python 3"
    },
    "language_info": {
      "name": "python"
    }
  },
  "cells": [
    {
      "cell_type": "markdown",
      "metadata": {
        "id": "view-in-github",
        "colab_type": "text"
      },
      "source": [
        "<a href=\"https://colab.research.google.com/github/ajaibino7/Learn.py/blob/main/TASK_7.ipynb\" target=\"_parent\"><img src=\"https://colab.research.google.com/assets/colab-badge.svg\" alt=\"Open In Colab\"/></a>"
      ]
    },
    {
      "cell_type": "markdown",
      "metadata": {
        "id": "b0V3vwzcydKy"
      },
      "source": [
        "1. Write a program to check whether a  string is palindrome or not using functions. \n",
        "\n",
        "   ( A function is to be created to check whether the string is palindrome and it should give the output true or false to the main program)"
      ]
    },
    {
      "cell_type": "code",
      "metadata": {
        "id": "M2Mi7EOdyxiu",
        "colab": {
          "base_uri": "https://localhost:8080/"
        },
        "outputId": "28d25142-1f05-4485-e725-2183eb1d0769"
      },
      "source": [
        "#please enter the code below this line.\n",
        "\n",
        "\n",
        "my_str = str(input(\"Enter the string you want to check \"))\n",
        "\n",
        "my_str = my_str.casefold()\n",
        "\n",
        "rev_str = reversed(my_str)\n",
        "\n",
        "\n",
        "if list(my_str) == list(rev_str):\n",
        "   print(\"True.\")\n",
        "else:\n",
        "   print(\"False.\")\n"
      ],
      "execution_count": 4,
      "outputs": [
        {
          "output_type": "stream",
          "text": [
            "Enter the string you want to check racecar\n",
            "True.\n"
          ],
          "name": "stdout"
        }
      ]
    },
    {
      "cell_type": "markdown",
      "metadata": {
        "id": "vSiShTyOzEz-"
      },
      "source": [
        "2.  Write a menu driven program to find largest element in L, smallest element, avg of all values, sum of all values in L. All these operation should be performed in different functions and the result should be returned.\n",
        "\n",
        "\n",
        "      L=[23,24,11,90,1,41,9,99,28,56,72]"
      ]
    },
    {
      "cell_type": "code",
      "metadata": {
        "id": "fRtMIw_CzsmO",
        "colab": {
          "base_uri": "https://localhost:8080/"
        },
        "outputId": "3d2639ec-a086-4587-b6ca-ebe7c8c41726"
      },
      "source": [
        "#please enter the code below this line.\n",
        "\n",
        "def largest(L,n):\n",
        "  temp = 1;\n",
        "  for i in range(0,n):\n",
        "    if (L[i]>temp):\n",
        "      temp=L[i]\n",
        "  return temp\n",
        "\n",
        "def smallest(L,n):\n",
        "  temp = 1;\n",
        "  for i in range(0,n):\n",
        "    if (L[i]<temp):\n",
        "      temp=L[i]\n",
        "  return temp\n",
        "\n",
        "def sum(L,n):\n",
        "  temp=1;\n",
        "  for i in range(0,n):\n",
        "    temp = temp + L[i]\n",
        "  return temp\n",
        "\n",
        "def avg(L,n):\n",
        "  temp=1;\n",
        "  for i in range(0,n):\n",
        "    temp = temp + L[i]\n",
        "  av = temp/n\n",
        "  return av\n",
        "\n",
        "L = [1, 2, 3, 4, 5, 5, 6, 7]\n",
        "n = len(L)\n",
        "print(largest(L, n))\n",
        "print(smallest(L, n))\n",
        "print(sum(L, n))\n",
        "print(avg(L, n))"
      ],
      "execution_count": 14,
      "outputs": [
        {
          "output_type": "stream",
          "text": [
            "7\n",
            "1\n",
            "34\n",
            "4.25\n"
          ],
          "name": "stdout"
        }
      ]
    }
  ]
}